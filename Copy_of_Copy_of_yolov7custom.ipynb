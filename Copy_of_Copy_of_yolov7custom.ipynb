{
 "cells": [
  {
   "cell_type": "code",
   "execution_count": 1,
   "metadata": {
    "colab": {
     "base_uri": "https://localhost:8080/"
    },
    "id": "6oz_OsStoZco",
    "outputId": "21980499-3df0-4fde-879d-fc90001ec563"
   },
   "outputs": [
    {
     "name": "stdout",
     "output_type": "stream",
     "text": [
      "Mounted at /content/gdrive\n"
     ]
    }
   ],
   "source": [
    "from google.colab import drive\n",
    "drive.mount('/content/gdrive')"
   ]
  },
  {
   "cell_type": "code",
   "execution_count": null,
   "metadata": {
    "colab": {
     "base_uri": "https://localhost:8080/"
    },
    "id": "gLLjqihPoqEW",
    "outputId": "3c4117bc-b522-4b2d-fe5a-ff860eeb1828"
   },
   "outputs": [
    {
     "name": "stdout",
     "output_type": "stream",
     "text": [
      "/content/gdrive/MyDrive\n"
     ]
    }
   ],
   "source": [
    "%cd /content/gdrive/MyDrive"
   ]
  },
  {
   "cell_type": "code",
   "execution_count": 1,
   "metadata": {
    "id": "nTRsdbvdoyjm"
   },
   "outputs": [],
   "source": [
    "import os\n",
    "if not os.path.isdir(\"ThinkAI\"):\n",
    "  os.makedirs(\"ThinkAI\")"
   ]
  },
  {
   "cell_type": "code",
   "execution_count": 2,
   "metadata": {
    "colab": {
     "base_uri": "https://localhost:8080/"
    },
    "id": "3wITf-aopCTo",
    "outputId": "dd987908-d52e-4e86-f716-f3c25a0a2957"
   },
   "outputs": [
    {
     "name": "stdout",
     "output_type": "stream",
     "text": [
      "C:\\Users\\DELL\\Documents\\Deep Learning\\GP\\yolov7\\ThinkAI\n"
     ]
    }
   ],
   "source": [
    "%cd ThinkAI"
   ]
  },
  {
   "cell_type": "code",
   "execution_count": 3,
   "metadata": {
    "colab": {
     "base_uri": "https://localhost:8080/"
    },
    "id": "nwRVWaSwpHQ5",
    "outputId": "85d0feec-9da6-4f18-8c28-106b6f724b44"
   },
   "outputs": [
    {
     "name": "stderr",
     "output_type": "stream",
     "text": [
      "fatal: destination path 'yolov7' already exists and is not an empty directory.\n"
     ]
    }
   ],
   "source": [
    "!git clone https://github.com/WongKinYiu/yolov7.git"
   ]
  },
  {
   "cell_type": "code",
   "execution_count": 4,
   "metadata": {
    "colab": {
     "base_uri": "https://localhost:8080/"
    },
    "id": "r5kSC7XWpYSA",
    "outputId": "3d5f43a1-d939-418e-966a-1b5b92d08f48"
   },
   "outputs": [
    {
     "name": "stdout",
     "output_type": "stream",
     "text": [
      "/c/Users/DELL/Documents/Deep Learning/GP/yolov7/ThinkAI\n"
     ]
    }
   ],
   "source": [
    "!pwd"
   ]
  },
  {
   "cell_type": "code",
   "execution_count": 5,
   "metadata": {
    "colab": {
     "base_uri": "https://localhost:8080/"
    },
    "id": "OuNWWDXtpqFL",
    "outputId": "e886a59f-b1d8-496d-b807-fd1100db9e42"
   },
   "outputs": [
    {
     "name": "stdout",
     "output_type": "stream",
     "text": [
      "C:\\Users\\DELL\\Documents\\Deep Learning\\GP\\yolov7\\ThinkAI\\yolov7\n"
     ]
    }
   ],
   "source": [
    "cd yolov7"
   ]
  },
  {
   "cell_type": "code",
   "execution_count": null,
   "metadata": {
    "colab": {
     "base_uri": "https://localhost:8080/"
    },
    "id": "TZgFZi1BpssD",
    "outputId": "8041928a-60dd-49c2-91a5-f1b8a79d00cc"
   },
   "outputs": [],
   "source": [
    "# !pip install wget\n",
    "!conda install wget\n",
    "import wget\n",
    "!wget https://github.com/WongKinYiu/yolov7/releases/download/v0.1/yolov7x.pt"
   ]
  },
  {
   "cell_type": "code",
   "execution_count": null,
   "metadata": {},
   "outputs": [],
   "source": [
    "!pip install wget\n",
    "!conda install wget\n",
    "import wget\n",
    "url = 'https://github.com/WongKinYiu/yolov7/releases/download/v0.1/yolov7x.pt'\n",
    "filename = wget.download(url)\n",
    "print(filename)"
   ]
  },
  {
   "cell_type": "code",
   "execution_count": 6,
   "metadata": {
    "colab": {
     "background_save": true,
     "base_uri": "https://localhost:8080/"
    },
    "id": "GKJzMS8Kxz9M",
    "outputId": "f69cf324-efee-4d28-9ffc-471acf609267"
   },
   "outputs": [
    {
     "name": "stderr",
     "output_type": "stream",
     "text": [
      "Traceback (most recent call last):\n",
      "  File \"C:\\Users\\DELL\\Documents\\Deep Learning\\GP\\yolov7\\ThinkAI\\yolov7\\train.py\", line 12, in <module>\n",
      "    import torch.distributed as dist\n",
      "ModuleNotFoundError: No module named 'torch'\n"
     ]
    }
   ],
   "source": [
    "!python train.py --device 0 --batch-size 16 --epochs 2000 --img 640 640 --data data/custom_data.yaml --hyp data/hyp.scratch.custom.yaml --cfg cfg/training/yolov7x-custom.yaml --weights yolov7x.py --name yolov7x-custom"
   ]
  },
  {
   "cell_type": "code",
   "execution_count": 3,
   "metadata": {
    "id": "hvDcchyVA2qq"
   },
   "outputs": [
    {
     "name": "stderr",
     "output_type": "stream",
     "text": [
      "python: can't open file 'C:\\Users\\DELL\\Documents\\Deep Learning\\GP\\yolov7\\detect.py': [Errno 2] No such file or directory\n"
     ]
    }
   ],
   "source": [
    "!python detect.py --weights runs/train/yolov7x-custom2/weights/best.py --conf 0.5 --img-size 640 --source Prabhas_3.jpeg --no-trace"
   ]
  },
  {
   "cell_type": "code",
   "execution_count": null,
   "metadata": {},
   "outputs": [],
   "source": []
  }
 ],
 "metadata": {
  "accelerator": "GPU",
  "colab": {
   "provenance": []
  },
  "gpuClass": "standard",
  "kernelspec": {
   "display_name": "Python 3 (ipykernel)",
   "language": "python",
   "name": "python3"
  },
  "language_info": {
   "codemirror_mode": {
    "name": "ipython",
    "version": 3
   },
   "file_extension": ".py",
   "mimetype": "text/x-python",
   "name": "python",
   "nbconvert_exporter": "python",
   "pygments_lexer": "ipython3",
   "version": "3.9.13"
  }
 },
 "nbformat": 4,
 "nbformat_minor": 1
}
